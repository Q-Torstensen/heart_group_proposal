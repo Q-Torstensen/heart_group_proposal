{
 "cells": [
  {
   "cell_type": "markdown",
   "metadata": {},
   "source": [
    "**PREDICTING PULSARS BASED ON STATISTICS OF DISTRIBUTION OF EMISSIONS PATTERNS**"
   ]
  },
  {
   "cell_type": "markdown",
   "metadata": {},
   "source": [
    "**Introduction:**\n"
   ]
  },
  {
   "cell_type": "markdown",
   "metadata": {},
   "source": [
    "**Preliminary exploratory data analysis:**"
   ]
  },
  {
   "cell_type": "code",
   "execution_count": 55,
   "metadata": {},
   "outputs": [
    {
     "data": {
      "text/html": [
       "<table>\n",
       "<caption>A data.frame: 6 × 9</caption>\n",
       "<thead>\n",
       "\t<tr><th></th><th scope=col>mean_of_ip</th><th scope=col>sd_of_ip</th><th scope=col>kurt_of_ip</th><th scope=col>skew_of_ip</th><th scope=col>mean_of_DM-SNR</th><th scope=col>sd_of_DM-SNR</th><th scope=col>kurt_of_DM-SNR</th><th scope=col>skew_of_DM-SNR</th><th scope=col>class</th></tr>\n",
       "\t<tr><th></th><th scope=col>&lt;dbl&gt;</th><th scope=col>&lt;dbl&gt;</th><th scope=col>&lt;dbl&gt;</th><th scope=col>&lt;dbl&gt;</th><th scope=col>&lt;dbl&gt;</th><th scope=col>&lt;dbl&gt;</th><th scope=col>&lt;dbl&gt;</th><th scope=col>&lt;dbl&gt;</th><th scope=col>&lt;fct&gt;</th></tr>\n",
       "</thead>\n",
       "<tbody>\n",
       "\t<tr><th scope=row>1</th><td>140.56250</td><td>55.68378</td><td>-0.23457141</td><td>-0.6996484</td><td>3.199833</td><td>19.11043</td><td> 7.975532</td><td> 74.24222</td><td>0</td></tr>\n",
       "\t<tr><th scope=row>2</th><td>102.50781</td><td>58.88243</td><td> 0.46531815</td><td>-0.5150879</td><td>1.677258</td><td>14.86015</td><td>10.576487</td><td>127.39358</td><td>0</td></tr>\n",
       "\t<tr><th scope=row>3</th><td>103.01562</td><td>39.34165</td><td> 0.32332837</td><td> 1.0511644</td><td>3.121237</td><td>21.74467</td><td> 7.735822</td><td> 63.17191</td><td>0</td></tr>\n",
       "\t<tr><th scope=row>4</th><td>136.75000</td><td>57.17845</td><td>-0.06841464</td><td>-0.6362384</td><td>3.642977</td><td>20.95928</td><td> 6.896499</td><td> 53.59366</td><td>0</td></tr>\n",
       "\t<tr><th scope=row>5</th><td> 88.72656</td><td>40.67223</td><td> 0.60086608</td><td> 1.1234917</td><td>1.178930</td><td>11.46872</td><td>14.269573</td><td>252.56731</td><td>0</td></tr>\n",
       "\t<tr><th scope=row>6</th><td> 93.57031</td><td>46.69811</td><td> 0.53190485</td><td> 0.4167211</td><td>1.636288</td><td>14.54507</td><td>10.621748</td><td>131.39400</td><td>0</td></tr>\n",
       "</tbody>\n",
       "</table>\n"
      ],
      "text/latex": [
       "A data.frame: 6 × 9\n",
       "\\begin{tabular}{r|lllllllll}\n",
       "  & mean\\_of\\_ip & sd\\_of\\_ip & kurt\\_of\\_ip & skew\\_of\\_ip & mean\\_of\\_DM-SNR & sd\\_of\\_DM-SNR & kurt\\_of\\_DM-SNR & skew\\_of\\_DM-SNR & class\\\\\n",
       "  & <dbl> & <dbl> & <dbl> & <dbl> & <dbl> & <dbl> & <dbl> & <dbl> & <fct>\\\\\n",
       "\\hline\n",
       "\t1 & 140.56250 & 55.68378 & -0.23457141 & -0.6996484 & 3.199833 & 19.11043 &  7.975532 &  74.24222 & 0\\\\\n",
       "\t2 & 102.50781 & 58.88243 &  0.46531815 & -0.5150879 & 1.677258 & 14.86015 & 10.576487 & 127.39358 & 0\\\\\n",
       "\t3 & 103.01562 & 39.34165 &  0.32332837 &  1.0511644 & 3.121237 & 21.74467 &  7.735822 &  63.17191 & 0\\\\\n",
       "\t4 & 136.75000 & 57.17845 & -0.06841464 & -0.6362384 & 3.642977 & 20.95928 &  6.896499 &  53.59366 & 0\\\\\n",
       "\t5 &  88.72656 & 40.67223 &  0.60086608 &  1.1234917 & 1.178930 & 11.46872 & 14.269573 & 252.56731 & 0\\\\\n",
       "\t6 &  93.57031 & 46.69811 &  0.53190485 &  0.4167211 & 1.636288 & 14.54507 & 10.621748 & 131.39400 & 0\\\\\n",
       "\\end{tabular}\n"
      ],
      "text/markdown": [
       "\n",
       "A data.frame: 6 × 9\n",
       "\n",
       "| <!--/--> | mean_of_ip &lt;dbl&gt; | sd_of_ip &lt;dbl&gt; | kurt_of_ip &lt;dbl&gt; | skew_of_ip &lt;dbl&gt; | mean_of_DM-SNR &lt;dbl&gt; | sd_of_DM-SNR &lt;dbl&gt; | kurt_of_DM-SNR &lt;dbl&gt; | skew_of_DM-SNR &lt;dbl&gt; | class &lt;fct&gt; |\n",
       "|---|---|---|---|---|---|---|---|---|---|\n",
       "| 1 | 140.56250 | 55.68378 | -0.23457141 | -0.6996484 | 3.199833 | 19.11043 |  7.975532 |  74.24222 | 0 |\n",
       "| 2 | 102.50781 | 58.88243 |  0.46531815 | -0.5150879 | 1.677258 | 14.86015 | 10.576487 | 127.39358 | 0 |\n",
       "| 3 | 103.01562 | 39.34165 |  0.32332837 |  1.0511644 | 3.121237 | 21.74467 |  7.735822 |  63.17191 | 0 |\n",
       "| 4 | 136.75000 | 57.17845 | -0.06841464 | -0.6362384 | 3.642977 | 20.95928 |  6.896499 |  53.59366 | 0 |\n",
       "| 5 |  88.72656 | 40.67223 |  0.60086608 |  1.1234917 | 1.178930 | 11.46872 | 14.269573 | 252.56731 | 0 |\n",
       "| 6 |  93.57031 | 46.69811 |  0.53190485 |  0.4167211 | 1.636288 | 14.54507 | 10.621748 | 131.39400 | 0 |\n",
       "\n"
      ],
      "text/plain": [
       "  mean_of_ip sd_of_ip kurt_of_ip  skew_of_ip mean_of_DM-SNR sd_of_DM-SNR\n",
       "1 140.56250  55.68378 -0.23457141 -0.6996484 3.199833       19.11043    \n",
       "2 102.50781  58.88243  0.46531815 -0.5150879 1.677258       14.86015    \n",
       "3 103.01562  39.34165  0.32332837  1.0511644 3.121237       21.74467    \n",
       "4 136.75000  57.17845 -0.06841464 -0.6362384 3.642977       20.95928    \n",
       "5  88.72656  40.67223  0.60086608  1.1234917 1.178930       11.46872    \n",
       "6  93.57031  46.69811  0.53190485  0.4167211 1.636288       14.54507    \n",
       "  kurt_of_DM-SNR skew_of_DM-SNR class\n",
       "1  7.975532       74.24222      0    \n",
       "2 10.576487      127.39358      0    \n",
       "3  7.735822       63.17191      0    \n",
       "4  6.896499       53.59366      0    \n",
       "5 14.269573      252.56731      0    \n",
       "6 10.621748      131.39400      0    "
      ]
     },
     "metadata": {},
     "output_type": "display_data"
    }
   ],
   "source": [
    "library(tidyverse)\n",
    "library(testthat)\n",
    "library(digest)\n",
    "library(repr)\n",
    "library(tidymodels)\n",
    "library(cowplot)\n",
    "options(repr.matrix.max.rows = 6)\n",
    "temp <- tempfile()\n",
    "download.file(\"https://archive.ics.uci.edu/ml/machine-learning-databases/00372/HTRU2.zip\",temp)\n",
    "pulsar_data <- read.csv(unz(temp, \"HTRU_2.csv\"), header = FALSE)\n",
    "unlink(temp)\n",
    "colnames(pulsar_data) <- c(\"mean_of_ip\", \"sd_of_ip\", \"kurt_of_ip\", \"skew_of_ip\", \n",
    "                           \"mean_of_DM-SNR\", \"sd_of_DM-SNR\", \"kurt_of_DM-SNR\", \"skew_of_DM-SNR\", \"class\")\n",
    "pulsar_data <- pulsar_data %>%\n",
    "    mutate(class = as.factor(class))\n",
    "head(pulsar_data)"
   ]
  },
  {
   "cell_type": "code",
   "execution_count": null,
   "metadata": {},
   "outputs": [],
   "source": []
  }
 ],
 "metadata": {
  "kernelspec": {
   "display_name": "R",
   "language": "R",
   "name": "ir"
  },
  "language_info": {
   "codemirror_mode": "r",
   "file_extension": ".r",
   "mimetype": "text/x-r-source",
   "name": "R",
   "pygments_lexer": "r",
   "version": "4.0.0"
  }
 },
 "nbformat": 4,
 "nbformat_minor": 4
}
