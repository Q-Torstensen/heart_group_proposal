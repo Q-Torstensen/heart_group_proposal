{
 "cells": [
  {
   "cell_type": "markdown",
   "metadata": {},
   "source": [
    "**PREDICTING SEVERITY OF HEART DISEASE BASED ON KNOWN INDICATORS OF THE BODY**"
   ]
  },
  {
   "cell_type": "markdown",
   "metadata": {},
   "source": [
    "**Introduction:**"
   ]
  },
  {
   "cell_type": "markdown",
   "metadata": {},
   "source": [
    "According to the Heart&Stroke foundation, heart disease can be defined as any condition that affects the structure and functions of the heart. There are different levels of severity for heart disease ranging from 0 (good condition) to 4 (highly serious) in our data. Some common factors that contribute to heart diseases are high blood pressure, a high level of cholesterol, heart rhythm disorder, etc., and we will be using some of those exact variables from the processed heart disease dataset collected in Cleveland for our project, in addition to some extra quantitative variables included. Our goal is to try and predict the severity of heart disease given a new observation of these variables using our trained model from data analysis."
   ]
  },
  {
   "cell_type": "markdown",
   "metadata": {},
   "source": [
    "**Preliminary exploratory data analysis:**"
   ]
  },
  {
   "cell_type": "code",
   "execution_count": 13,
   "metadata": {},
   "outputs": [
    {
     "name": "stderr",
     "output_type": "stream",
     "text": [
      "Warning message:\n",
      "“package ‘tidymodels’ was built under R version 4.0.2”\n",
      "── \u001b[1mAttaching packages\u001b[22m ────────────────────────────────────── tidymodels 0.1.1 ──\n",
      "\n",
      "\u001b[32m✔\u001b[39m \u001b[34mbroom    \u001b[39m 0.7.0      \u001b[32m✔\u001b[39m \u001b[34mrecipes  \u001b[39m 0.1.13\n",
      "\u001b[32m✔\u001b[39m \u001b[34mdials    \u001b[39m 0.0.9      \u001b[32m✔\u001b[39m \u001b[34mrsample  \u001b[39m 0.0.7 \n",
      "\u001b[32m✔\u001b[39m \u001b[34minfer    \u001b[39m 0.5.4      \u001b[32m✔\u001b[39m \u001b[34mtune     \u001b[39m 0.1.1 \n",
      "\u001b[32m✔\u001b[39m \u001b[34mmodeldata\u001b[39m 0.0.2      \u001b[32m✔\u001b[39m \u001b[34mworkflows\u001b[39m 0.2.0 \n",
      "\u001b[32m✔\u001b[39m \u001b[34mparsnip  \u001b[39m 0.1.3      \u001b[32m✔\u001b[39m \u001b[34myardstick\u001b[39m 0.0.7 \n",
      "\n",
      "Warning message:\n",
      "“package ‘broom’ was built under R version 4.0.2”\n",
      "Warning message:\n",
      "“package ‘dials’ was built under R version 4.0.2”\n",
      "Warning message:\n",
      "“package ‘infer’ was built under R version 4.0.3”\n",
      "Warning message:\n",
      "“package ‘modeldata’ was built under R version 4.0.1”\n",
      "Warning message:\n",
      "“package ‘parsnip’ was built under R version 4.0.2”\n",
      "Warning message:\n",
      "“package ‘recipes’ was built under R version 4.0.1”\n",
      "Warning message:\n",
      "“package ‘tune’ was built under R version 4.0.2”\n",
      "Warning message:\n",
      "“package ‘workflows’ was built under R version 4.0.2”\n",
      "Warning message:\n",
      "“package ‘yardstick’ was built under R version 4.0.2”\n",
      "── \u001b[1mConflicts\u001b[22m ───────────────────────────────────────── tidymodels_conflicts() ──\n",
      "\u001b[31m✖\u001b[39m \u001b[34mscales\u001b[39m::\u001b[32mdiscard()\u001b[39m masks \u001b[34mpurrr\u001b[39m::discard()\n",
      "\u001b[31m✖\u001b[39m \u001b[34mdplyr\u001b[39m::\u001b[32mfilter()\u001b[39m   masks \u001b[34mstats\u001b[39m::filter()\n",
      "\u001b[31m✖\u001b[39m \u001b[34mrecipes\u001b[39m::\u001b[32mfixed()\u001b[39m  masks \u001b[34mstringr\u001b[39m::fixed()\n",
      "\u001b[31m✖\u001b[39m \u001b[34mdplyr\u001b[39m::\u001b[32mlag()\u001b[39m      masks \u001b[34mstats\u001b[39m::lag()\n",
      "\u001b[31m✖\u001b[39m \u001b[34myardstick\u001b[39m::\u001b[32mspec()\u001b[39m masks \u001b[34mreadr\u001b[39m::spec()\n",
      "\u001b[31m✖\u001b[39m \u001b[34mrecipes\u001b[39m::\u001b[32mstep()\u001b[39m   masks \u001b[34mstats\u001b[39m::step()\n",
      "\n",
      "Warning message:\n",
      "“Duplicated column names deduplicated: '1.0' => '1.0_1' [3], '1.0' => '1.0_2' [6], '0.0' => '0.0_1' [12]”\n",
      "Parsed with column specification:\n",
      "cols(\n",
      "  `63.0` = \u001b[32mcol_double()\u001b[39m,\n",
      "  `1.0` = \u001b[32mcol_double()\u001b[39m,\n",
      "  `1.0_1` = \u001b[32mcol_double()\u001b[39m,\n",
      "  `145.0` = \u001b[32mcol_double()\u001b[39m,\n",
      "  `233.0` = \u001b[32mcol_double()\u001b[39m,\n",
      "  `1.0_2` = \u001b[32mcol_double()\u001b[39m,\n",
      "  `2.0` = \u001b[32mcol_double()\u001b[39m,\n",
      "  `150.0` = \u001b[32mcol_double()\u001b[39m,\n",
      "  `0.0` = \u001b[32mcol_double()\u001b[39m,\n",
      "  `2.3` = \u001b[32mcol_double()\u001b[39m,\n",
      "  `3.0` = \u001b[32mcol_double()\u001b[39m,\n",
      "  `0.0_1` = \u001b[31mcol_character()\u001b[39m,\n",
      "  `6.0` = \u001b[31mcol_character()\u001b[39m,\n",
      "  `0` = \u001b[32mcol_double()\u001b[39m\n",
      ")\n",
      "\n"
     ]
    },
    {
     "data": {
      "text/html": [
       "<table>\n",
       "<caption>A tibble: 6 × 14</caption>\n",
       "<thead>\n",
       "\t<tr><th scope=col>age</th><th scope=col>sex</th><th scope=col>chestpain_type</th><th scope=col>restbps</th><th scope=col>chol</th><th scope=col>fastingbs</th><th scope=col>restecg</th><th scope=col>max_heart_rate</th><th scope=col>exang</th><th scope=col>oldpeak</th><th scope=col>slope</th><th scope=col>ca</th><th scope=col>thal</th><th scope=col>diagnosis</th></tr>\n",
       "\t<tr><th scope=col>&lt;dbl&gt;</th><th scope=col>&lt;dbl&gt;</th><th scope=col>&lt;dbl&gt;</th><th scope=col>&lt;dbl&gt;</th><th scope=col>&lt;dbl&gt;</th><th scope=col>&lt;dbl&gt;</th><th scope=col>&lt;dbl&gt;</th><th scope=col>&lt;dbl&gt;</th><th scope=col>&lt;dbl&gt;</th><th scope=col>&lt;dbl&gt;</th><th scope=col>&lt;dbl&gt;</th><th scope=col>&lt;chr&gt;</th><th scope=col>&lt;chr&gt;</th><th scope=col>&lt;fct&gt;</th></tr>\n",
       "</thead>\n",
       "<tbody>\n",
       "\t<tr><td>67</td><td>1</td><td>4</td><td>160</td><td>286</td><td>0</td><td>2</td><td>108</td><td>1</td><td>1.5</td><td>2</td><td>3.0</td><td>3.0</td><td>2</td></tr>\n",
       "\t<tr><td>67</td><td>1</td><td>4</td><td>120</td><td>229</td><td>0</td><td>2</td><td>129</td><td>1</td><td>2.6</td><td>2</td><td>2.0</td><td>7.0</td><td>1</td></tr>\n",
       "\t<tr><td>37</td><td>1</td><td>3</td><td>130</td><td>250</td><td>0</td><td>0</td><td>187</td><td>0</td><td>3.5</td><td>3</td><td>0.0</td><td>3.0</td><td>0</td></tr>\n",
       "\t<tr><td>41</td><td>0</td><td>2</td><td>130</td><td>204</td><td>0</td><td>2</td><td>172</td><td>0</td><td>1.4</td><td>1</td><td>0.0</td><td>3.0</td><td>0</td></tr>\n",
       "\t<tr><td>56</td><td>1</td><td>2</td><td>120</td><td>236</td><td>0</td><td>0</td><td>178</td><td>0</td><td>0.8</td><td>1</td><td>0.0</td><td>3.0</td><td>0</td></tr>\n",
       "\t<tr><td>62</td><td>0</td><td>4</td><td>140</td><td>268</td><td>0</td><td>2</td><td>160</td><td>0</td><td>3.6</td><td>3</td><td>2.0</td><td>3.0</td><td>3</td></tr>\n",
       "</tbody>\n",
       "</table>\n"
      ],
      "text/latex": [
       "A tibble: 6 × 14\n",
       "\\begin{tabular}{llllllllllllll}\n",
       " age & sex & chestpain\\_type & restbps & chol & fastingbs & restecg & max\\_heart\\_rate & exang & oldpeak & slope & ca & thal & diagnosis\\\\\n",
       " <dbl> & <dbl> & <dbl> & <dbl> & <dbl> & <dbl> & <dbl> & <dbl> & <dbl> & <dbl> & <dbl> & <chr> & <chr> & <fct>\\\\\n",
       "\\hline\n",
       "\t 67 & 1 & 4 & 160 & 286 & 0 & 2 & 108 & 1 & 1.5 & 2 & 3.0 & 3.0 & 2\\\\\n",
       "\t 67 & 1 & 4 & 120 & 229 & 0 & 2 & 129 & 1 & 2.6 & 2 & 2.0 & 7.0 & 1\\\\\n",
       "\t 37 & 1 & 3 & 130 & 250 & 0 & 0 & 187 & 0 & 3.5 & 3 & 0.0 & 3.0 & 0\\\\\n",
       "\t 41 & 0 & 2 & 130 & 204 & 0 & 2 & 172 & 0 & 1.4 & 1 & 0.0 & 3.0 & 0\\\\\n",
       "\t 56 & 1 & 2 & 120 & 236 & 0 & 0 & 178 & 0 & 0.8 & 1 & 0.0 & 3.0 & 0\\\\\n",
       "\t 62 & 0 & 4 & 140 & 268 & 0 & 2 & 160 & 0 & 3.6 & 3 & 2.0 & 3.0 & 3\\\\\n",
       "\\end{tabular}\n"
      ],
      "text/markdown": [
       "\n",
       "A tibble: 6 × 14\n",
       "\n",
       "| age &lt;dbl&gt; | sex &lt;dbl&gt; | chestpain_type &lt;dbl&gt; | restbps &lt;dbl&gt; | chol &lt;dbl&gt; | fastingbs &lt;dbl&gt; | restecg &lt;dbl&gt; | max_heart_rate &lt;dbl&gt; | exang &lt;dbl&gt; | oldpeak &lt;dbl&gt; | slope &lt;dbl&gt; | ca &lt;chr&gt; | thal &lt;chr&gt; | diagnosis &lt;fct&gt; |\n",
       "|---|---|---|---|---|---|---|---|---|---|---|---|---|---|\n",
       "| 67 | 1 | 4 | 160 | 286 | 0 | 2 | 108 | 1 | 1.5 | 2 | 3.0 | 3.0 | 2 |\n",
       "| 67 | 1 | 4 | 120 | 229 | 0 | 2 | 129 | 1 | 2.6 | 2 | 2.0 | 7.0 | 1 |\n",
       "| 37 | 1 | 3 | 130 | 250 | 0 | 0 | 187 | 0 | 3.5 | 3 | 0.0 | 3.0 | 0 |\n",
       "| 41 | 0 | 2 | 130 | 204 | 0 | 2 | 172 | 0 | 1.4 | 1 | 0.0 | 3.0 | 0 |\n",
       "| 56 | 1 | 2 | 120 | 236 | 0 | 0 | 178 | 0 | 0.8 | 1 | 0.0 | 3.0 | 0 |\n",
       "| 62 | 0 | 4 | 140 | 268 | 0 | 2 | 160 | 0 | 3.6 | 3 | 2.0 | 3.0 | 3 |\n",
       "\n"
      ],
      "text/plain": [
       "  age sex chestpain_type restbps chol fastingbs restecg max_heart_rate exang\n",
       "1 67  1   4              160     286  0         2       108            1    \n",
       "2 67  1   4              120     229  0         2       129            1    \n",
       "3 37  1   3              130     250  0         0       187            0    \n",
       "4 41  0   2              130     204  0         2       172            0    \n",
       "5 56  1   2              120     236  0         0       178            0    \n",
       "6 62  0   4              140     268  0         2       160            0    \n",
       "  oldpeak slope ca  thal diagnosis\n",
       "1 1.5     2     3.0 3.0  2        \n",
       "2 2.6     2     2.0 7.0  1        \n",
       "3 3.5     3     0.0 3.0  0        \n",
       "4 1.4     1     0.0 3.0  0        \n",
       "5 0.8     1     0.0 3.0  0        \n",
       "6 3.6     3     2.0 3.0  3        "
      ]
     },
     "metadata": {},
     "output_type": "display_data"
    }
   ],
   "source": [
    "library(tidyverse)\n",
    "library(repr)\n",
    "library(tidymodels)\n",
    "options(repr.matrix.max.rows = 6)\n",
    "heart_data <- read_csv(url(\"https://archive.ics.uci.edu/ml/machine-learning-databases/heart-disease/processed.cleveland.data\"))\n",
    "colnames(heart_data) <- c(\"age\", \"sex\", \"chestpain_type\", \"restbps\", \"chol\", \"fastingbs\", \"restecg\", \"max_heart_rate\", \"exang\",\n",
    "                           \"oldpeak\", \"slope\", \"ca\", \"thal\", \"diagnosis\")\n",
    "names(heart_data) <- make.unique(names(heart_data))\n",
    "heart_data <- mutate(heart_data, diagnosis = as_factor(diagnosis))\n",
    "\n",
    "head(heart_data)"
   ]
  },
  {
   "cell_type": "markdown",
   "metadata": {},
   "source": [
    "First we subset our dataframe into columns / variables we want to use, then remove all rows with missing values. The reasoning for the all predictor variables chosen will be explained in the \"methods\" section."
   ]
  },
  {
   "cell_type": "code",
   "execution_count": 14,
   "metadata": {},
   "outputs": [
    {
     "data": {
      "text/html": [
       "302"
      ],
      "text/latex": [
       "302"
      ],
      "text/markdown": [
       "302"
      ],
      "text/plain": [
       "[1] 302"
      ]
     },
     "metadata": {},
     "output_type": "display_data"
    },
    {
     "data": {
      "text/html": [
       "302"
      ],
      "text/latex": [
       "302"
      ],
      "text/markdown": [
       "302"
      ],
      "text/plain": [
       "[1] 302"
      ]
     },
     "metadata": {},
     "output_type": "display_data"
    }
   ],
   "source": [
    "heart_data <- select(heart_data, age, restbps, chol, max_heart_rate, diagnosis)\n",
    "nrow(heart_data)\n",
    "heart_data <- na.omit(heart_data)\n",
    "nrow(heart_data)"
   ]
  },
  {
   "cell_type": "markdown",
   "metadata": {},
   "source": [
    "Luckily, we don't have any missing values in our dataset! Now we split into training/test sets:"
   ]
  },
  {
   "cell_type": "code",
   "execution_count": 15,
   "metadata": {},
   "outputs": [],
   "source": [
    "set.seed(123)\n",
    "heart_split <- initial_split(heart_data, prop = 0.75, strata = diagnosis)\n",
    "heart_train <- training(heart_split)\n",
    "heart_test <- testing(heart_split) "
   ]
  },
  {
   "cell_type": "markdown",
   "metadata": {},
   "source": [
    "The table below shows all factors of our diagnosis response and the number of observations and percentage in each class for the **training data**"
   ]
  },
  {
   "cell_type": "markdown",
   "metadata": {},
   "source": [
    "| Class of response | No. of obs | Percentage of obs.\n",
    "| ----------- | ----------- | -------------|\n",
    "| 0           | 123         | 54.185\n",
    "| 1           | 43          | 18.943\n",
    "| 2           | 26          | 11.454\n",
    "| 3           | 26          | 11.454\n",
    "| 4           | 9           | 4.965\n"
   ]
  },
  {
   "cell_type": "markdown",
   "metadata": {},
   "source": [
    "The boxplots below shows the distribution of all our predictor variables:"
   ]
  },
  {
   "cell_type": "code",
   "execution_count": 16,
   "metadata": {},
   "outputs": [
    {
     "data": {
      "image/png": "[encoded data removed]",
      "text/plain": [
       "plot without title"
      ]
     },
     "metadata": {
      "image/png": {
       "height": 420,
       "width": 420
      }
     },
     "output_type": "display_data"
    }
   ],
   "source": [
    "par(mfrow=c(2,2))\n",
    "boxplot(heart_data$age, xlab = \"age\")\n",
    "boxplot(heart_data$restbps, xlab = \"resting blood pressure in mm Hg\")\n",
    "boxplot(heart_data$chol, xlab = \"serum cholestoral in mg/dl\")\n",
    "boxplot(heart_data$max_heart_rate, xlab = \"max heart rate\")"
   ]
  },
  {
   "cell_type": "markdown",
   "metadata": {},
   "source": [
    "**METHODS:**"
   ]
  },
  {
   "cell_type": "markdown",
   "metadata": {},
   "source": [
    "Our team plans on creating a classification model in order to predict the severity of heart disease found in patients based upon several other medical observations. We were lucky in that our dataset had a plethora of data to choose from. However, we limited our predictors/columns to the four listed below. This was intentional, as we omitted predictor variables that were themselves qualitative to increase simplicity of interpretation and calculation, while fasting blood pressure would require the patient to be in a fasted state which would take a while to record the data. We figured that all the variables chosen had a decent correlation with age, which is our main reason for choosing them."
   ]
  },
  {
   "cell_type": "markdown",
   "metadata": {},
   "source": [
    "The visualization of our results will be a bar chart with each colour representing a different class of the response, and we will plot the number of observations collected on a bar graph to display its distribution, and compare each class of the response relative to others."
   ]
  },
  {
   "cell_type": "markdown",
   "metadata": {},
   "source": [
    "**Expected outcomes and significance:**"
   ]
  },
  {
   "cell_type": "markdown",
   "metadata": {},
   "source": [
    "Our team's expectations is to predict the severity of heart disease from each observation in our testing set and other patient data based on age, level of blood pressure, amount of cholesterol and maximum heart rate, and build a good model around it. Being able to confirm the presence of heart disease and knowing the severity of it allows a healthcare provider to develop an appropriate treatment plan for each patient. Treatment options can range from lifestyle changes to heavy medication regimens, and it is important for the provider to know what is appropriate for each patient. Being able to develop a model that uses such data will allow providers to have a better idea of each specific case even before other, more intrusive tests can be completed, and may allow the patient to skip such testing altogether. Such a model can also allow electronic medical record systems to automatically flag patients in the system and recommend them for follow-up testing, reducing cases where patients are lost to follow up. This model can lead to future questions where researchers can work to find which specific factors play a bigger role in the development of heart disease, and thus guide public health recommendations and treatment plans for patients. It can also allow for other diseases or disorders to be modelled and predicted using a similar method to ours."
   ]
  },
  {
   "cell_type": "code",
   "execution_count": 45,
   "metadata": {},
   "outputs": [
    {
     "data": {
      "text/html": [
       "<table>\n",
       "<caption>A tibble: 60 × 7</caption>\n",
       "<thead>\n",
       "\t<tr><th scope=col>neighbors</th><th scope=col>.metric</th><th scope=col>.estimator</th><th scope=col>mean</th><th scope=col>n</th><th scope=col>std_err</th><th scope=col>.config</th></tr>\n",
       "\t<tr><th scope=col>&lt;dbl&gt;</th><th scope=col>&lt;chr&gt;</th><th scope=col>&lt;chr&gt;</th><th scope=col>&lt;dbl&gt;</th><th scope=col>&lt;int&gt;</th><th scope=col>&lt;dbl&gt;</th><th scope=col>&lt;chr&gt;</th></tr>\n",
       "</thead>\n",
       "<tbody>\n",
       "\t<tr><td>1</td><td>accuracy</td><td>multiclass</td><td>0.3576108</td><td>5</td><td>0.02805248</td><td>Model01</td></tr>\n",
       "\t<tr><td>1</td><td>roc_auc </td><td>hand_till </td><td>0.5347500</td><td>5</td><td>0.01488766</td><td>Model01</td></tr>\n",
       "\t<tr><td>3</td><td>accuracy</td><td>multiclass</td><td>0.4052645</td><td>5</td><td>0.02595060</td><td>Model02</td></tr>\n",
       "\t<tr><td>⋮</td><td>⋮</td><td>⋮</td><td>⋮</td><td>⋮</td><td>⋮</td><td>⋮</td></tr>\n",
       "\t<tr><td>57</td><td>roc_auc </td><td>hand_till </td><td>0.5179272</td><td>5</td><td>0.03392278</td><td>Model29</td></tr>\n",
       "\t<tr><td>59</td><td>accuracy</td><td>multiclass</td><td>0.5424439</td><td>5</td><td>0.01176060</td><td>Model30</td></tr>\n",
       "\t<tr><td>59</td><td>roc_auc </td><td>hand_till </td><td>0.5150597</td><td>5</td><td>0.02797456</td><td>Model30</td></tr>\n",
       "</tbody>\n",
       "</table>\n"
      ],
      "text/latex": [
       "A tibble: 60 × 7\n",
       "\\begin{tabular}{lllllll}\n",
       " neighbors & .metric & .estimator & mean & n & std\\_err & .config\\\\\n",
       " <dbl> & <chr> & <chr> & <dbl> & <int> & <dbl> & <chr>\\\\\n",
       "\\hline\n",
       "\t 1 & accuracy & multiclass & 0.3576108 & 5 & 0.02805248 & Model01\\\\\n",
       "\t 1 & roc\\_auc  & hand\\_till  & 0.5347500 & 5 & 0.01488766 & Model01\\\\\n",
       "\t 3 & accuracy & multiclass & 0.4052645 & 5 & 0.02595060 & Model02\\\\\n",
       "\t ⋮ & ⋮ & ⋮ & ⋮ & ⋮ & ⋮ & ⋮\\\\\n",
       "\t 57 & roc\\_auc  & hand\\_till  & 0.5179272 & 5 & 0.03392278 & Model29\\\\\n",
       "\t 59 & accuracy & multiclass & 0.5424439 & 5 & 0.01176060 & Model30\\\\\n",
       "\t 59 & roc\\_auc  & hand\\_till  & 0.5150597 & 5 & 0.02797456 & Model30\\\\\n",
       "\\end{tabular}\n"
      ],
      "text/markdown": [
       "\n",
       "A tibble: 60 × 7\n",
       "\n",
       "| neighbors &lt;dbl&gt; | .metric &lt;chr&gt; | .estimator &lt;chr&gt; | mean &lt;dbl&gt; | n &lt;int&gt; | std_err &lt;dbl&gt; | .config &lt;chr&gt; |\n",
       "|---|---|---|---|---|---|---|\n",
       "| 1 | accuracy | multiclass | 0.3576108 | 5 | 0.02805248 | Model01 |\n",
       "| 1 | roc_auc  | hand_till  | 0.5347500 | 5 | 0.01488766 | Model01 |\n",
       "| 3 | accuracy | multiclass | 0.4052645 | 5 | 0.02595060 | Model02 |\n",
       "| ⋮ | ⋮ | ⋮ | ⋮ | ⋮ | ⋮ | ⋮ |\n",
       "| 57 | roc_auc  | hand_till  | 0.5179272 | 5 | 0.03392278 | Model29 |\n",
       "| 59 | accuracy | multiclass | 0.5424439 | 5 | 0.01176060 | Model30 |\n",
       "| 59 | roc_auc  | hand_till  | 0.5150597 | 5 | 0.02797456 | Model30 |\n",
       "\n"
      ],
      "text/plain": [
       "   neighbors .metric  .estimator mean      n std_err    .config\n",
       "1  1         accuracy multiclass 0.3576108 5 0.02805248 Model01\n",
       "2  1         roc_auc  hand_till  0.5347500 5 0.01488766 Model01\n",
       "3  3         accuracy multiclass 0.4052645 5 0.02595060 Model02\n",
       "⋮  ⋮         ⋮        ⋮          ⋮         ⋮ ⋮          ⋮      \n",
       "58 57        roc_auc  hand_till  0.5179272 5 0.03392278 Model29\n",
       "59 59        accuracy multiclass 0.5424439 5 0.01176060 Model30\n",
       "60 59        roc_auc  hand_till  0.5150597 5 0.02797456 Model30"
      ]
     },
     "metadata": {},
     "output_type": "display_data"
    },
    {
     "data": {
      "image/png": "[encoded data removed]",
      "text/plain": [
       "plot without title"
      ]
     },
     "metadata": {
      "image/png": {
       "height": 420,
       "width": 420
      }
     },
     "output_type": "display_data"
    }
   ],
   "source": [
    "set.seed(123)\n",
    "heart_recipe_1_2 <- recipe(diagnosis ~ age + restbps, data = heart_train) %>%\n",
    "    step_scale(all_predictors()) %>%\n",
    "    step_center(all_predictors())\n",
    "\n",
    "knn_spec_1_2 <- nearest_neighbor(weight_func = \"rectangular\", \n",
    "                                 neighbors = tune()) %>%\n",
    "    set_engine(\"kknn\") %>%\n",
    "    set_mode(\"classification\")\n",
    "\n",
    "k_vals <- tibble(neighbors = seq(from = 1, to = 60, by =2))\n",
    "\n",
    "heart_train_vfold <- vfold_cv(heart_train, v = 5, strata = diagnosis)\n",
    "\n",
    "knn_fit <- workflow() %>%\n",
    "    add_recipe(heart_recipe_1_2) %>%\n",
    "    add_model(knn_spec_1_2) %>%\n",
    "    tune_grid(resamples = heart_train_vfold, grid = k_vals) %>%\n",
    "    collect_metrics ()\n",
    "knn_fit\n",
    "\n",
    "accuracy <- knn_fit %>%\n",
    "    filter(.metric == \"accuracy\")\n",
    "\n",
    "cross_val_plot_1_2 <- ggplot(accuracy, aes(x = neighbors, y = mean)) +\n",
    "    geom_point() +\n",
    "    geom_line() +\n",
    "    labs(x = \"Neighbors\", y = \"Accuracy Estimate\") +\n",
    "    scale_x_continuous(breaks = seq(1, 50, by = 2))\n",
    "\n",
    "cross_val_plot_1_2\n"
   ]
  },
  {
   "cell_type": "code",
   "execution_count": 67,
   "metadata": {},
   "outputs": [
    {
     "data": {
      "text/plain": [
       "K-Nearest Neighbor Model Specification (classification)\n",
       "\n",
       "Main Arguments:\n",
       "  neighbors = 45\n",
       "  weight_func = rectangular\n",
       "\n",
       "Computational engine: kknn \n"
      ]
     },
     "metadata": {},
     "output_type": "display_data"
    },
    {
     "data": {
      "text/plain": [
       "parsnip model object\n",
       "\n",
       "Fit time:  13ms \n",
       "\n",
       "Call:\n",
       "kknn::train.kknn(formula = diagnosis ~ age + restbps, data = data,     ks = ~45, kernel = ~\"rectangular\")\n",
       "\n",
       "Type of response variable: nominal\n",
       "Minimal misclassification: 0.4581498\n",
       "Best kernel: rectangular\n",
       "Best k: 45"
      ]
     },
     "metadata": {},
     "output_type": "display_data"
    },
    {
     "data": {
      "text/html": [
       "<table>\n",
       "<caption>A tibble: 2 × 3</caption>\n",
       "<thead>\n",
       "\t<tr><th scope=col>.metric</th><th scope=col>.estimator</th><th scope=col>.estimate</th></tr>\n",
       "\t<tr><th scope=col>&lt;chr&gt;</th><th scope=col>&lt;chr&gt;</th><th scope=col>&lt;dbl&gt;</th></tr>\n",
       "</thead>\n",
       "<tbody>\n",
       "\t<tr><td>accuracy</td><td>multiclass</td><td>0.5333333</td></tr>\n",
       "\t<tr><td>kap     </td><td>multiclass</td><td>0.0000000</td></tr>\n",
       "</tbody>\n",
       "</table>\n"
      ],
      "text/latex": [
       "A tibble: 2 × 3\n",
       "\\begin{tabular}{lll}\n",
       " .metric & .estimator & .estimate\\\\\n",
       " <chr> & <chr> & <dbl>\\\\\n",
       "\\hline\n",
       "\t accuracy & multiclass & 0.5333333\\\\\n",
       "\t kap      & multiclass & 0.0000000\\\\\n",
       "\\end{tabular}\n"
      ],
      "text/markdown": [
       "\n",
       "A tibble: 2 × 3\n",
       "\n",
       "| .metric &lt;chr&gt; | .estimator &lt;chr&gt; | .estimate &lt;dbl&gt; |\n",
       "|---|---|---|\n",
       "| accuracy | multiclass | 0.5333333 |\n",
       "| kap      | multiclass | 0.0000000 |\n",
       "\n"
      ],
      "text/plain": [
       "  .metric  .estimator .estimate\n",
       "1 accuracy multiclass 0.5333333\n",
       "2 kap      multiclass 0.0000000"
      ]
     },
     "metadata": {},
     "output_type": "display_data"
    }
   ],
   "source": [
    "set.seed(123)\n",
    "knn_spec_1_2_best <- nearest_neighbor(weight_func = \"rectangular\", neighbors = 45) %>%\n",
    "    set_engine(\"kknn\") %>%\n",
    "    set_mode(\"classification\")\n",
    "knn_spec_1_2_best \n",
    "\n",
    "knn_fit_1_2_best <- knn_spec_1_2_best %>%\n",
    "    fit(diagnosis ~ age + restbps, data = heart_train)\n",
    "knn_fit_1_2_best\n",
    "\n",
    "heart_disease_1_2_metrics <- predict(knn_fit_1_2_best, heart_test) %>%\n",
    "    bind_cols(heart_test) %>%\n",
    "    metrics(truth = diagnosis, estimate = .pred_class)\n",
    "heart_disease_1_2_metrics"
   ]
  },
  {
   "cell_type": "code",
   "execution_count": 40,
   "metadata": {},
   "outputs": [
    {
     "data": {
      "text/html": [
       "<table>\n",
       "<caption>A tibble: 60 × 7</caption>\n",
       "<thead>\n",
       "\t<tr><th scope=col>neighbors</th><th scope=col>.metric</th><th scope=col>.estimator</th><th scope=col>mean</th><th scope=col>n</th><th scope=col>std_err</th><th scope=col>.config</th></tr>\n",
       "\t<tr><th scope=col>&lt;dbl&gt;</th><th scope=col>&lt;chr&gt;</th><th scope=col>&lt;chr&gt;</th><th scope=col>&lt;dbl&gt;</th><th scope=col>&lt;int&gt;</th><th scope=col>&lt;dbl&gt;</th><th scope=col>&lt;chr&gt;</th></tr>\n",
       "</thead>\n",
       "<tbody>\n",
       "\t<tr><td>1</td><td>accuracy</td><td>multiclass</td><td>0.3139097</td><td>5</td><td>0.028419758</td><td>Model01</td></tr>\n",
       "\t<tr><td>1</td><td>roc_auc </td><td>hand_till </td><td>0.4617778</td><td>5</td><td>0.008279822</td><td>Model01</td></tr>\n",
       "\t<tr><td>3</td><td>accuracy</td><td>multiclass</td><td>0.3755151</td><td>5</td><td>0.038476806</td><td>Model02</td></tr>\n",
       "\t<tr><td>⋮</td><td>⋮</td><td>⋮</td><td>⋮</td><td>⋮</td><td>⋮</td><td>⋮</td></tr>\n",
       "\t<tr><td>57</td><td>roc_auc </td><td>hand_till </td><td>0.5480497</td><td>5</td><td>0.03600759</td><td>Model29</td></tr>\n",
       "\t<tr><td>59</td><td>accuracy</td><td>multiclass</td><td>0.5424439</td><td>5</td><td>0.01176060</td><td>Model30</td></tr>\n",
       "\t<tr><td>59</td><td>roc_auc </td><td>hand_till </td><td>0.5501116</td><td>5</td><td>0.04156049</td><td>Model30</td></tr>\n",
       "</tbody>\n",
       "</table>\n"
      ],
      "text/latex": [
       "A tibble: 60 × 7\n",
       "\\begin{tabular}{lllllll}\n",
       " neighbors & .metric & .estimator & mean & n & std\\_err & .config\\\\\n",
       " <dbl> & <chr> & <chr> & <dbl> & <int> & <dbl> & <chr>\\\\\n",
       "\\hline\n",
       "\t 1 & accuracy & multiclass & 0.3139097 & 5 & 0.028419758 & Model01\\\\\n",
       "\t 1 & roc\\_auc  & hand\\_till  & 0.4617778 & 5 & 0.008279822 & Model01\\\\\n",
       "\t 3 & accuracy & multiclass & 0.3755151 & 5 & 0.038476806 & Model02\\\\\n",
       "\t ⋮ & ⋮ & ⋮ & ⋮ & ⋮ & ⋮ & ⋮\\\\\n",
       "\t 57 & roc\\_auc  & hand\\_till  & 0.5480497 & 5 & 0.03600759 & Model29\\\\\n",
       "\t 59 & accuracy & multiclass & 0.5424439 & 5 & 0.01176060 & Model30\\\\\n",
       "\t 59 & roc\\_auc  & hand\\_till  & 0.5501116 & 5 & 0.04156049 & Model30\\\\\n",
       "\\end{tabular}\n"
      ],
      "text/markdown": [
       "\n",
       "A tibble: 60 × 7\n",
       "\n",
       "| neighbors &lt;dbl&gt; | .metric &lt;chr&gt; | .estimator &lt;chr&gt; | mean &lt;dbl&gt; | n &lt;int&gt; | std_err &lt;dbl&gt; | .config &lt;chr&gt; |\n",
       "|---|---|---|---|---|---|---|\n",
       "| 1 | accuracy | multiclass | 0.3139097 | 5 | 0.028419758 | Model01 |\n",
       "| 1 | roc_auc  | hand_till  | 0.4617778 | 5 | 0.008279822 | Model01 |\n",
       "| 3 | accuracy | multiclass | 0.3755151 | 5 | 0.038476806 | Model02 |\n",
       "| ⋮ | ⋮ | ⋮ | ⋮ | ⋮ | ⋮ | ⋮ |\n",
       "| 57 | roc_auc  | hand_till  | 0.5480497 | 5 | 0.03600759 | Model29 |\n",
       "| 59 | accuracy | multiclass | 0.5424439 | 5 | 0.01176060 | Model30 |\n",
       "| 59 | roc_auc  | hand_till  | 0.5501116 | 5 | 0.04156049 | Model30 |\n",
       "\n"
      ],
      "text/plain": [
       "   neighbors .metric  .estimator mean      n std_err     .config\n",
       "1  1         accuracy multiclass 0.3139097 5 0.028419758 Model01\n",
       "2  1         roc_auc  hand_till  0.4617778 5 0.008279822 Model01\n",
       "3  3         accuracy multiclass 0.3755151 5 0.038476806 Model02\n",
       "⋮  ⋮         ⋮        ⋮          ⋮         ⋮ ⋮           ⋮      \n",
       "58 57        roc_auc  hand_till  0.5480497 5 0.03600759  Model29\n",
       "59 59        accuracy multiclass 0.5424439 5 0.01176060  Model30\n",
       "60 59        roc_auc  hand_till  0.5501116 5 0.04156049  Model30"
      ]
     },
     "metadata": {},
     "output_type": "display_data"
    },
    {
     "data": {
      "image/png": "[encoded data removed]",
      "text/plain": [
       "plot without title"
      ]
     },
     "metadata": {
      "image/png": {
       "height": 420,
       "width": 420
      }
     },
     "output_type": "display_data"
    }
   ],
   "source": [
    "set.seed(123)\n",
    "heart_recipe_1_3 <- recipe(diagnosis ~ age + chol, data = heart_train) %>%\n",
    "    step_scale(all_predictors()) %>%\n",
    "    step_center(all_predictors())\n",
    "\n",
    "knn_spec_1_3 <- nearest_neighbor(weight_func = \"rectangular\", \n",
    "                                 neighbors = tune()) %>%\n",
    "    set_engine(\"kknn\") %>%\n",
    "    set_mode(\"classification\")\n",
    "\n",
    "k_vals <- tibble(neighbors = seq(from = 1, to = 60, by =2))\n",
    "\n",
    "heart_train_vfold <- vfold_cv(heart_train, v = 5, strata = diagnosis)\n",
    "\n",
    "knn_fit <- workflow() %>%\n",
    "    add_recipe(heart_recipe_1_3) %>%\n",
    "    add_model(knn_spec_1_3) %>%\n",
    "    tune_grid(resamples = heart_train_vfold, grid = k_vals) %>%\n",
    "    collect_metrics ()\n",
    "knn_fit\n",
    "\n",
    "accuracy <- knn_fit %>%\n",
    "    filter(.metric == \"accuracy\")\n",
    "\n",
    "cross_val_plot_1_3 <- ggplot(accuracy, aes(x = neighbors, y = mean)) +\n",
    "    geom_point() +\n",
    "    geom_line() +\n",
    "    labs(x = \"Neighbors\", y = \"Accuracy Estimate\") +\n",
    "    scale_x_continuous(breaks = seq(1, 50, by = 2))\n",
    "\n",
    "cross_val_plot_1_3"
   ]
  },
  {
   "cell_type": "code",
   "execution_count": 68,
   "metadata": {},
   "outputs": [
    {
     "data": {
      "text/plain": [
       "K-Nearest Neighbor Model Specification (classification)\n",
       "\n",
       "Main Arguments:\n",
       "  neighbors = 45\n",
       "  weight_func = rectangular\n",
       "\n",
       "Computational engine: kknn \n"
      ]
     },
     "metadata": {},
     "output_type": "display_data"
    },
    {
     "data": {
      "text/plain": [
       "parsnip model object\n",
       "\n",
       "Fit time:  12ms \n",
       "\n",
       "Call:\n",
       "kknn::train.kknn(formula = diagnosis ~ age + chol, data = data,     ks = ~45, kernel = ~\"rectangular\")\n",
       "\n",
       "Type of response variable: nominal\n",
       "Minimal misclassification: 0.4625551\n",
       "Best kernel: rectangular\n",
       "Best k: 45"
      ]
     },
     "metadata": {},
     "output_type": "display_data"
    },
    {
     "data": {
      "text/html": [
       "<table>\n",
       "<caption>A tibble: 2 × 3</caption>\n",
       "<thead>\n",
       "\t<tr><th scope=col>.metric</th><th scope=col>.estimator</th><th scope=col>.estimate</th></tr>\n",
       "\t<tr><th scope=col>&lt;chr&gt;</th><th scope=col>&lt;chr&gt;</th><th scope=col>&lt;dbl&gt;</th></tr>\n",
       "</thead>\n",
       "<tbody>\n",
       "\t<tr><td>accuracy</td><td>multiclass</td><td>0.5333333</td></tr>\n",
       "\t<tr><td>kap     </td><td>multiclass</td><td>0.0000000</td></tr>\n",
       "</tbody>\n",
       "</table>\n"
      ],
      "text/latex": [
       "A tibble: 2 × 3\n",
       "\\begin{tabular}{lll}\n",
       " .metric & .estimator & .estimate\\\\\n",
       " <chr> & <chr> & <dbl>\\\\\n",
       "\\hline\n",
       "\t accuracy & multiclass & 0.5333333\\\\\n",
       "\t kap      & multiclass & 0.0000000\\\\\n",
       "\\end{tabular}\n"
      ],
      "text/markdown": [
       "\n",
       "A tibble: 2 × 3\n",
       "\n",
       "| .metric &lt;chr&gt; | .estimator &lt;chr&gt; | .estimate &lt;dbl&gt; |\n",
       "|---|---|---|\n",
       "| accuracy | multiclass | 0.5333333 |\n",
       "| kap      | multiclass | 0.0000000 |\n",
       "\n"
      ],
      "text/plain": [
       "  .metric  .estimator .estimate\n",
       "1 accuracy multiclass 0.5333333\n",
       "2 kap      multiclass 0.0000000"
      ]
     },
     "metadata": {},
     "output_type": "display_data"
    }
   ],
   "source": [
    "set.seed(123)\n",
    "knn_spec_1_3_best <- nearest_neighbor(weight_func = \"rectangular\", neighbors = 45) %>%\n",
    "    set_engine(\"kknn\") %>%\n",
    "    set_mode(\"classification\")\n",
    "knn_spec_1_3_best \n",
    "\n",
    "knn_fit_1_3_best <- knn_spec_1_3_best %>%\n",
    "    fit(diagnosis ~ age + chol, data = heart_train)\n",
    "knn_fit_1_3_best\n",
    "\n",
    "heart_disease_1_3_metrics <- predict(knn_fit_1_3_best, heart_test) %>%\n",
    "    bind_cols(heart_test) %>%\n",
    "    metrics(truth = diagnosis, estimate = .pred_class)\n",
    "heart_disease_1_3_metrics"
   ]
  },
  {
   "cell_type": "code",
   "execution_count": null,
   "metadata": {},
   "outputs": [],
   "source": []
  }
 ],
 "metadata": {
  "kernelspec": {
   "display_name": "R",
   "language": "R",
   "name": "ir"
  },
  "language_info": {
   "codemirror_mode": "r",
   "file_extension": ".r",
   "mimetype": "text/x-r-source",
   "name": "R",
   "pygments_lexer": "r",
   "version": "4.0.0"
  }
 },
 "nbformat": 4,
 "nbformat_minor": 4
}
